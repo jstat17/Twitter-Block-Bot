{
 "metadata": {
  "language_info": {
   "codemirror_mode": {
    "name": "ipython",
    "version": 3
   },
   "file_extension": ".py",
   "mimetype": "text/x-python",
   "name": "python",
   "nbconvert_exporter": "python",
   "pygments_lexer": "ipython3",
   "version": "3.8.8"
  },
  "orig_nbformat": 2,
  "kernelspec": {
   "name": "python388jvsc74a57bd08fdbed2d6e700ff1a4a1f41502e0a2d1e121d5ba4480b6581143d2f3ddb3a694",
   "display_name": "Python 3.8.8 64-bit (conda)"
  }
 },
 "nbformat": 4,
 "nbformat_minor": 2,
 "cells": [
  {
   "cell_type": "code",
   "execution_count": 1,
   "metadata": {},
   "outputs": [],
   "source": [
    "from selenium import webdriver\n",
    "from selenium.webdriver.common.keys import Keys\n",
    "from selenium.webdriver.common.by import By\n",
    "from selenium.webdriver.support.ui import WebDriverWait\n",
    "from selenium.webdriver.support import expected_conditions as EC\n",
    "from selenium.webdriver.common.action_chains import ActionChains\n",
    "import time\n",
    "import os\n",
    "import dotenv\n",
    "\n",
    "PATH = \"C:\\Program Files (x86)\\chromedriver_win32\\chromedriver.exe\"\n",
    "driver = webdriver.Chrome(PATH)\n",
    "dotenv.load_dotenv()\n",
    "\n",
    "def find_element_safe(driver, element_type, element_attribute):\n",
    "    \n",
    "    if element_type == \"CLASS_NAME\":\n",
    "        by_type = By.CLASS_NAME\n",
    "    elif element_type == \"CSS_SELECTOR\":\n",
    "        by_type = By.CSS_SELECTOR\n",
    "    elif element_type == \"ID\":\n",
    "        by_type = By.ID\n",
    "    elif element_type == \"LINK_TEXT\":\n",
    "        by_type = By.LINK_TEXT\n",
    "    elif element_type == \"NAME\":\n",
    "        by_type = By.NAME\n",
    "    elif element_type == \"PARTIAL_LINK_TEXT\":\n",
    "        by_type = By.PARTIAL_LINK_TEXT\n",
    "    elif element_type == \"TAG_NAME\":\n",
    "        by_type = By.TAG_NAME\n",
    "    elif element_type == \"XPATH\":\n",
    "        by_type = By.XPATH\n",
    "    else:\n",
    "        return None\n",
    "        \n",
    "    try:\n",
    "        element = WebDriverWait(driver, 10).until(\n",
    "        EC.presence_of_element_located(\n",
    "            (by_type, element_attribute))\n",
    "        )\n",
    "    except:\n",
    "        return None\n",
    "    \n",
    "    return element"
   ]
  },
  {
   "cell_type": "code",
   "execution_count": 125,
   "metadata": {},
   "outputs": [
    {
     "output_type": "stream",
     "name": "stdout",
     "text": [
      "Blocked  1  accounts\n",
      "Blocked  2  accounts\n",
      "Blocked  3  accounts\n"
     ]
    }
   ],
   "source": [
    "tweet_link = 'https://twitter.com/glennkirschner2/status/1376003552473182211?s=20'\n",
    "tweet_link = tweet_link.split(\"?\")[0]\n",
    "driver.get(tweet_link)\n",
    "btn_login = find_element_safe(driver, \"LINK_TEXT\", \"Log in\")\n",
    "btn_login.click()\n",
    "\n",
    "# input user details\n",
    "user_input = find_element_safe(driver, 'XPATH', '//*[@id=\"react-root\"]/div/div/div[2]/main/div/div/div[2]/form/div/div[1]/label/div/div[2]/div/input')\n",
    "user_input.send_keys(os.environ['USER_NAME'])\n",
    "pass_input = find_element_safe(driver, 'XPATH', '//*[@id=\"react-root\"]/div/div/div[2]/main/div/div/div[2]/form/div/div[2]/label/div/div[2]/div/input')\n",
    "pass_input.send_keys(os.environ['PASS'])\n",
    "\n",
    "# move to login button and click\n",
    "mouse_move_login_btn = ActionChains(driver)\n",
    "btn_login = find_element_safe(driver, 'XPATH', '//*[@id=\"react-root\"]/div/div/div[2]/main/div/div/div[2]/form/div/div[3]/div')\n",
    "mouse_move_login_btn.move_to_element(btn_login)\n",
    "mouse_move_login_btn.click()\n",
    "mouse_move_login_btn.perform()\n",
    "\n",
    "driver.implicitly_wait(5)\n",
    "\n",
    "# while on tweet\n",
    "links = driver.find_elements_by_xpath('.//a')\n",
    "for link in links:\n",
    "    if link.get_attribute('href').split(\"/\")[-1].lower() == \"likes\":\n",
    "        a_likes = link\n",
    "        break\n",
    "\n",
    "a_likes.click()\n",
    "driver.implicitly_wait(2)\n",
    "\n",
    "num_accs = int(input(\"Number of accounts: \"))\n",
    "num_blocked = 0\n",
    "\n",
    "for i in range(num_accs):\n",
    "    accounts = driver.find_elements_by_css_selector(\"div[class='css-18t94o4 css-1dbjc4n r-1ny4l3l r-ymttw5 r-1f1sjgu r-o7ynqc r-6416eg']\")\n",
    "    block_account_action = ActionChains(driver)\n",
    "    block_account_action.move_to_element(accounts[0])\n",
    "    block_account_action.click()\n",
    "    block_account_action.perform()\n",
    "    driver.implicitly_wait(2)\n",
    "\n",
    "    btn_dots = find_element_safe(driver, 'XPATH', '//*[@id=\"react-root\"]/div/div/div[2]/main/div/div/div/div/div/div[2]/div/div/div[1]/div/div[1]/div/div[1]')\n",
    "    block_account_action = ActionChains(driver)\n",
    "    block_account_action.move_to_element(btn_dots)\n",
    "    block_account_action.click()\n",
    "    block_account_action.perform()\n",
    "    driver.implicitly_wait(2)\n",
    "    time.sleep(0.5)\n",
    "\n",
    "    btn_block = find_element_safe(driver, 'XPATH', '//*[@id=\"layers\"]/div[2]/div/div/div/div[2]/div[3]/div/div/div/div[4]')\n",
    "    block_account_action = ActionChains(driver)\n",
    "    block_account_action.move_to_element(btn_block)\n",
    "    block_account_action.click()\n",
    "    block_account_action.perform()\n",
    "\n",
    "    btn_block_confirm = find_element_safe(driver, 'XPATH', '//*[@id=\"layers\"]/div[2]/div/div/div/div/div/div[2]/div[2]/div[3]/div[2]')\n",
    "    block_account_action = ActionChains(driver)\n",
    "    block_account_action.move_to_element(btn_block_confirm)\n",
    "    block_account_action.click()\n",
    "    block_account_action.perform()\n",
    "\n",
    "    num_blocked += 1\n",
    "    driver.back()\n",
    "    time.sleep(0.5)\n",
    "    driver.refresh()\n",
    "    time.sleep(1)\n",
    "\n",
    "    out = \" account\"\n",
    "    if num_blocked != 1:\n",
    "        out += \"s\"\n",
    "    print(\"Blocked \", num_blocked, out)\n",
    "\n"
   ]
  },
  {
   "cell_type": "code",
   "execution_count": 126,
   "metadata": {
    "tags": []
   },
   "outputs": [],
   "source": [
    "# x = driver.find_elements_by_css_selector(\"div[class='css-1dbjc4n r-j7yic r-qklmqi r-1adg3ll r-1ny4l3l'\")\n",
    "# print(x)"
   ]
  },
  {
   "cell_type": "code",
   "execution_count": 17,
   "metadata": {},
   "outputs": [],
   "source": [
    "driver.get(\"https://twitter.com/charlenewbr/status/1360722882616303617\")\n",
    "a = driver.find_elements_by_css_selector('.css-4rbku5[role=\"link\"]')"
   ]
  },
  {
   "cell_type": "code",
   "execution_count": 20,
   "metadata": {},
   "outputs": [
    {
     "output_type": "stream",
     "name": "stdout",
     "text": [
      "[<selenium.webdriver.remote.webelement.WebElement (session=\"c8088260441656ee2a79ee276f68b134\", element=\"a7609f87-91c9-499a-89f4-4051669c75ca\")>, <selenium.webdriver.remote.webelement.WebElement (session=\"c8088260441656ee2a79ee276f68b134\", element=\"23810bcc-ac18-42c6-91f1-4099b194fe60\")>, <selenium.webdriver.remote.webelement.WebElement (session=\"c8088260441656ee2a79ee276f68b134\", element=\"27d9df11-09e3-4b12-a6d7-3788176f2059\")>, <selenium.webdriver.remote.webelement.WebElement (session=\"c8088260441656ee2a79ee276f68b134\", element=\"f3e90d21-44ea-4e77-ba34-243e0cda915e\")>, <selenium.webdriver.remote.webelement.WebElement (session=\"c8088260441656ee2a79ee276f68b134\", element=\"44dadcff-e315-4993-83ab-d798536259ce\")>]\n"
     ]
    }
   ],
   "source": [
    "print(a)"
   ]
  },
  {
   "cell_type": "code",
   "execution_count": 21,
   "metadata": {},
   "outputs": [],
   "source": [
    "a[-1].click()"
   ]
  },
  {
   "cell_type": "code",
   "execution_count": 30,
   "metadata": {},
   "outputs": [
    {
     "output_type": "stream",
     "name": "stdout",
     "text": [
      "https://twitter.com/login\n",
      "https://twitter.com/i/flow/signup\n",
      "https://twitter.com/\n",
      "https://twitter.com/explore\n",
      "https://twitter.com/settings\n",
      "https://twitter.com/MittRomney\n",
      "https://twitter.com/MittRomney\n",
      "https://twitter.com/MittRomney/status/1360722571004678147\n",
      "https://twitter.com/MittRomney/status/1360722571004678147/photo/1\n",
      "https://twitter.com/charlenewbr\n",
      "https://twitter.com/charlenewbr\n",
      "https://twitter.com/MittRomney\n",
      "https://twitter.com/charlenewbr/status/1360722882616303617\n",
      "https://help.twitter.com/using-twitter/how-to-tweet#source-labels\n",
      "https://twitter.com/charlenewbr/status/1360722882616303617/retweets\n",
      "https://twitter.com/charlenewbr/status/1360722882616303617/retweets/with_comments\n",
      "https://twitter.com/charlenewbr/status/1360722882616303617/likes\n",
      "<selenium.webdriver.remote.webelement.WebElement (session=\"c8088260441656ee2a79ee276f68b134\", element=\"a5e57a17-0eb5-4f7c-9198-930504a340d2\")>\n"
     ]
    }
   ],
   "source": [
    "links = driver.find_elements_by_xpath('.//a')\n",
    "for link in links:\n",
    "    print(link.get_attribute('href'))\n",
    "    if link.get_attribute('href').split(\"/\")[-1].lower() == \"likes\":\n",
    "        a_likes = link\n",
    "        print(a_likes)\n",
    "        break"
   ]
  },
  {
   "cell_type": "code",
   "execution_count": 27,
   "metadata": {},
   "outputs": [
    {
     "output_type": "execute_result",
     "data": {
      "text/plain": [
       "'2'"
      ]
     },
     "metadata": {},
     "execution_count": 27
    }
   ],
   "source": [
    "\"1/2\".split(\"/\")[-1].lower()"
   ]
  },
  {
   "cell_type": "code",
   "execution_count": null,
   "metadata": {},
   "outputs": [],
   "source": []
  }
 ]
}